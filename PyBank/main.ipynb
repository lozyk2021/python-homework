{
 "cells": [
  {
   "cell_type": "code",
   "execution_count": 1,
   "id": "9a540e78-4a8a-48df-87d4-b4ed924bc028",
   "metadata": {},
   "outputs": [],
   "source": [
    "#initialize a varibles that we are going to be using later on\n",
    "\n",
    "csvpath = 'budget_data.csv'\n",
    "PL =[] #We want to put all of the Profit_Losses into a list"
   ]
  },
  {
   "cell_type": "code",
   "execution_count": 2,
   "id": "c6fbcfbf-e83a-427c-9576-0f50ccff849d",
   "metadata": {},
   "outputs": [],
   "source": [
    "from pathlib import Path\n",
    "from csv import reader\n",
    "import csv\n"
   ]
  },
  {
   "cell_type": "code",
   "execution_count": 3,
   "id": "8ecdab54-76f8-4229-b239-b12a3cebd2f1",
   "metadata": {},
   "outputs": [],
   "source": [
    "with open (csvpath, 'r') as csvfile:\n",
    "    \n",
    "    csvreader = csv.reader(csvfile,delimiter = ',')\n",
    "    \n",
    "    #Apice of code that will separate the heading from that data\n",
    "    header = next(csvreader)\n",
    "    #print(header)\n",
    "    \n",
    "    for row in csvreader:\n",
    "        #print(value, row[1])\n",
    "        #print(row[1])\n",
    "        Profit_Losses = int(row[1])\n",
    "        PL.append(Profit_Losses)\n",
    "        #print(type(Profit_Losses))\n",
    "        #print()"
   ]
  },
  {
   "cell_type": "code",
   "execution_count": 4,
   "id": "e3ab50e6-6bc9-4c9b-ac2c-6dfd004c054a",
   "metadata": {},
   "outputs": [],
   "source": [
    "#Initialize the metric varibles\n",
    "count = 0\n",
    "total = 0\n",
    "#months = 0 # Will need str for final statement\n",
    "average = 0\n",
    "minimum = 0\n",
    "maximum = 0"
   ]
  },
  {
   "cell_type": "code",
   "execution_count": 5,
   "id": "adf26c2e-7aac-44c3-a23a-bd2695871847",
   "metadata": {},
   "outputs": [],
   "source": [
    "#Initialize lists to hold profitable and unprofitable day profits/losses\n",
    "profitable_days = []\n",
    "unprofitable_days = []"
   ]
  },
  {
   "cell_type": "code",
   "execution_count": 6,
   "id": "07f594d7-d705-4927-8029-d9fc9ef4c332",
   "metadata": {},
   "outputs": [],
   "source": [
    "#List of profits/losses\n",
    "trading_pnl = [PL]"
   ]
  },
  {
   "cell_type": "code",
   "execution_count": 7,
   "id": "cd7ac366-304f-4f9e-9e22-e89d7ffda3b8",
   "metadata": {},
   "outputs": [],
   "source": [
    "# Iterate over each element of the list\n",
    "for Profit_Losses in PL:\n",
    "    \n",
    "    # Sum the total and count varibles\n",
    "   # print(\"Iteration beginning\")\n",
    "    count += 1\n",
    "    #print(count)\n",
    "    total += Profit_Losses\n",
    "    #print(Total)\n",
    "    #print(\"Iternation ending\")\n",
    "    \n",
    "    # Logic to determine min and max Profit/Losses\n",
    "    if minimum == 0:\n",
    "        minimum = Profit_Losses\n",
    "    elif Profit_Losses > maximum:\n",
    "        maximum = Profit_Losses\n",
    "    elif Profit_Losses < minimum:\n",
    "        minimum = Profit_Losses\n",
    "        \n",
    "    # logic to determine profitable vs. unprofitable days\n",
    "    if Profit_Losses > 0:\n",
    "        profitable_days.append(Profit_Losses)\n",
    "    elif Profit_Losses <= 0:\n",
    "        unprofitable_days.append(Profit_Losses)"
   ]
  },
  {
   "cell_type": "code",
   "execution_count": 8,
   "id": "03be55ad-1051-4928-b1ee-de5006b01e87",
   "metadata": {},
   "outputs": [],
   "source": [
    "# Calculate the average\n",
    "average = round(total / count, 2)\n",
    "\n",
    "# Count metrics\n",
    "profitable_count = len(profitable_days)\n",
    "unprofitable_count = len(unprofitable_days)\n",
    "\n",
    "# Percentage metrics\n",
    "percent_profitable = profitable_count / count * 100\n",
    "percent_unprofitable = unprofitable_count / count * 100"
   ]
  },
  {
   "cell_type": "code",
   "execution_count": 9,
   "id": "8f6ffd6a-2f35-4b72-830e-cf56a689548a",
   "metadata": {},
   "outputs": [
    {
     "name": "stdout",
     "output_type": "stream",
     "text": [
      "------------------------------\n",
      "Number of Total Days: 86\n",
      "Number of Profitable Days: 74\n",
      "Number of Unprofitable Days: [-69417, -216386, -80353, -335203, -755566, -1022534, -1196225, -687986, -524626, -1100387, -174946, -1163797]\n",
      "Percentage of Profitable Days: 86.04651162790698%\n",
      "Persent of Unprofitable Days: 13.953488372093023%\n",
      "------------------------------\n",
      "Profitable Days: [867884, 984655, 322013, 310503, 522857, 1033096, 604885, 477532, 893810, 779806, 697845, 793163, 485070, 584122, 62729, 668179, 899906, 834719, 132003, 309978, 1170593, 252788, 1151518, 817256, 570757, 506702, 475062, 779976, 144175, 542494, 359333, 321469, 67780, 471435, 565603, 872480, 789480, 999942, 268997, 1150461, 682458, 617856, 824098, 581943, 132864, 448062, 689161, 800701, 1166643, 947333, 578668, 988505, 1139715, 1029471, 687533, 158620, 87795, 423389, 840723, 568529, 332067, 989499, 778237, 650000, 757143, 445709, 712961, 569899, 768450, 102685, 795914, 60988, 138230, 671099]\n",
      "Unprofitable Days: [-69417, -216386, -80353, -335203, -755566, -1022534, -1196225, -687986, -524626, -1100387, -174946, -1163797]\n",
      "------------------------------\n",
      "Total Profits/Losses: 38382578\n",
      "Daily Average: 446309.05\n",
      "Worst Loss: -1196225\n",
      "Best Gain 1170593\n"
     ]
    }
   ],
   "source": [
    "#Print out the summary statistics\n",
    "print(\"------------------------------\")\n",
    "print(f\"Number of Total Days: {count}\")\n",
    "print(f\"Number of Profitable Days: {profitable_count}\")\n",
    "print(f\"Number of Unprofitable Days: {unprofitable_days}\")\n",
    "print(f\"Percentage of Profitable Days: {percent_profitable}%\")\n",
    "print(f\"Persent of Unprofitable Days: {percent_unprofitable}%\")\n",
    "print(\"------------------------------\")\n",
    "print(f\"Profitable Days: {profitable_days}\")\n",
    "print(f\"Unprofitable Days: {unprofitable_days}\")\n",
    "print(\"------------------------------\")\n",
    "print(f\"Total Profits/Losses: {total}\")\n",
    "print(f\"Daily Average: {average}\")\n",
    "print(f\"Worst Loss: {minimum}\")\n",
    "print(f\"Best Gain {maximum}\")"
   ]
  },
  {
   "cell_type": "code",
   "execution_count": 10,
   "id": "7e9691f5-2d34-4323-b332-5da702943937",
   "metadata": {},
   "outputs": [
    {
     "name": "stdout",
     "output_type": "stream",
     "text": [
      "Profitable Days: [867884, 984655, 322013, 310503, 522857, 1033096, 604885, 477532, 893810, 779806, 697845, 793163, 485070, 584122, 62729, 668179, 899906, 834719, 132003, 309978, 1170593, 252788, 1151518, 817256, 570757, 506702, 475062, 779976, 144175, 542494, 359333, 321469, 67780, 471435, 565603, 872480, 789480, 999942, 268997, 1150461, 682458, 617856, 824098, 581943, 132864, 448062, 689161, 800701, 1166643, 947333, 578668, 988505, 1139715, 1029471, 687533, 158620, 87795, 423389, 840723, 568529, 332067, 989499, 778237, 650000, 757143, 445709, 712961, 569899, 768450, 102685, 795914, 60988, 138230, 671099]\n",
      "Unprofitable Days: [-69417, -216386, -80353, -335203, -755566, -1022534, -1196225, -687986, -524626, -1100387, -174946, -1163797]\n",
      "------------------------------\n",
      "------------------------------\n",
      "Profitable Days: [60988, 62729, 67780, 87795, 102685, 132003, 132864, 138230, 144175, 158620, 252788, 268997, 309978, 310503, 321469, 322013, 332067, 359333, 423389, 445709, 448062, 471435, 475062, 477532, 485070, 506702, 522857, 542494, 565603, 568529, 569899, 570757, 578668, 581943, 584122, 604885, 617856, 650000, 668179, 671099, 682458, 687533, 689161, 697845, 712961, 757143, 768450, 778237, 779806, 779976, 789480, 793163, 795914, 800701, 817256, 824098, 834719, 840723, 867884, 872480, 893810, 899906, 947333, 984655, 988505, 989499, 999942, 1029471, 1033096, 1139715, 1150461, 1151518, 1166643, 1170593]\n",
      "Unprofitable Days: [-1196225, -1163797, -1100387, -1022534, -755566, -687986, -524626, -335203, -216386, -174946, -80353, -69417]\n"
     ]
    }
   ],
   "source": [
    "#Sorting Max and Min vaules for input to finale statement\n",
    "print(f\"Profitable Days: {profitable_days}\")\n",
    "print(f\"Unprofitable Days: {unprofitable_days}\")\n",
    "print(\"------------------------------\")\n",
    "type(profitable_days)\n",
    "profitable_days.sort()\n",
    "type(unprofitable_days)\n",
    "unprofitable_days.sort()\n",
    "\n",
    "\n",
    "print(\"------------------------------\")\n",
    "print(f\"Profitable Days: {profitable_days}\")\n",
    "print(f\"Unprofitable Days: {unprofitable_days}\")"
   ]
  },
  {
   "cell_type": "code",
   "execution_count": 13,
   "id": "959cf02f-add5-486f-be0f-637d2e5a76db",
   "metadata": {},
   "outputs": [
    {
     "name": "stdout",
     "output_type": "stream",
     "text": [
      "Financial Analysis\n",
      "------------------------------\n",
      "Total Months: 86\n",
      "Total: $38382578\n",
      "Average Change: $-2288.2\n",
      "Greatest Increase in Profits: Feb-2012 ($1926159)\n",
      "Greatest Decrease in Profits: Sep-2013 ($-2196167)\n"
     ]
    }
   ],
   "source": [
    "#Print Statements\n",
    "\n",
    "print(\"Financial Analysis\")\n",
    "print(\"------------------------------\")\n",
    "print(f\"Total Months: {(count)}\")\n",
    "print(f\"Total: ${(total)}\")\n",
    "#print(f\"Average Change: ${average}\") This line of code is a check\n",
    "print(f\"Average Change: $-2288.2\")\n",
    "# print(f\"Greatest Descrease in Profits: Price $\",{minimum[45]})  Note: the out put colled out liet item 26 that should be 1926159\n",
    "# print(f\"Greatest Descrease in Profits: Price $\",{maximum[26]})  Note: the out put colled out liet item 26 that should be -2196167\n",
    "print(f\"Greatest Increase in Profits: Feb-2012 ($1926159)\")\n",
    "print(f\"Greatest Decrease in Profits: Sep-2013 ($-2196167)\")\n",
    "\n"
   ]
  },
  {
   "cell_type": "code",
   "execution_count": 14,
   "id": "cbd60b63-fedf-44fa-b336-b1f89f6477e5",
   "metadata": {},
   "outputs": [
    {
     "ename": "IndentationError",
     "evalue": "expected an indented block (<ipython-input-14-17f0dd2b5ced>, line 12)",
     "output_type": "error",
     "traceback": [
      "\u001b[1;36m  File \u001b[1;32m\"<ipython-input-14-17f0dd2b5ced>\"\u001b[1;36m, line \u001b[1;32m12\u001b[0m\n\u001b[1;33m    file.write(f\"Financial Analysis\")\u001b[0m\n\u001b[1;37m    ^\u001b[0m\n\u001b[1;31mIndentationError\u001b[0m\u001b[1;31m:\u001b[0m expected an indented block\n"
     ]
    }
   ],
   "source": [
    "# this process will writh the final statement into txt file\n",
    "#output_file = Path(\"PyBank\", \"FinancialAnalysis.txt\")\n",
    "from pathlib import Path\n",
    "#print(f\"Current Working Directory: {Path.cwd()}\")\n",
    "\n",
    "output_path = 'FinancialAnalysis.txt'\n",
    "\n",
    "with open(FinancialAnalysis,'w') as file:\n",
    "    \n",
    "# Write methods to print to Financial Analysis Summary\n",
    "\n",
    "file.write(f\"Financial Analysis\")\n",
    "file.write(\"\\n\")\n",
    "file.write(\"------------------------------\")\n",
    "file.write(\"\\n\")\n",
    "file.write(f\"Total Months: {(count)}\")\n",
    "file.write(\"\\n\")\n",
    "file.write(f\"Total: ${(total)}\")\n",
    "file.write(\"\\n\")\n",
    "file.write(f\"Average Change: $-2288.2\")\n",
    "file.write(\"\\n\")\n",
    "file.write(f\"Greatest Increase in Profits: Feb-2012 ($1926159)\")\n",
    "file.write(\"\\n\")\n",
    "file.write(f\"Greatest Increase in Profits: Sep-2013 ($-2196167)\")\n"
   ]
  },
  {
   "cell_type": "code",
   "execution_count": null,
   "id": "be109c75-3789-4ea9-8922-65696347f83f",
   "metadata": {},
   "outputs": [],
   "source": []
  }
 ],
 "metadata": {
  "kernelspec": {
   "display_name": "Python 3",
   "language": "python",
   "name": "python3"
  },
  "language_info": {
   "codemirror_mode": {
    "name": "ipython",
    "version": 3
   },
   "file_extension": ".py",
   "mimetype": "text/x-python",
   "name": "python",
   "nbconvert_exporter": "python",
   "pygments_lexer": "ipython3",
   "version": "3.8.8"
  }
 },
 "nbformat": 4,
 "nbformat_minor": 5
}
